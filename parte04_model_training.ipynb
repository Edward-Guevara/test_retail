{
 "cells": [
  {
   "attachments": {},
   "cell_type": "markdown",
   "metadata": {},
   "source": [
    "# Random Forest model"
   ]
  },
  {
   "attachments": {},
   "cell_type": "markdown",
   "metadata": {},
   "source": [
    "# Setup"
   ]
  },
  {
   "attachments": {},
   "cell_type": "markdown",
   "metadata": {},
   "source": [
    "Primero se debe instalar la libreria **KerasTuner** con `pip install keras-tuner -q` e importarla de la siguiente como `import keras_tuner`"
   ]
  },
  {
   "cell_type": "code",
   "execution_count": 12,
   "metadata": {},
   "outputs": [],
   "source": [
    "import numpy as np\n",
    "import pandas as pd\n",
    "from sklearn.ensemble import RandomForestClassifier\n",
    "from sklearn.model_selection import StratifiedKFold\n",
    "from joblib import dump\n",
    "from sklearn import metrics\n",
    "from tensorflow import keras\n",
    "import keras_tuner\n",
    "import glob"
   ]
  },
  {
   "attachments": {},
   "cell_type": "markdown",
   "metadata": {},
   "source": [
    "# Importar datos de entrenamiento"
   ]
  },
  {
   "cell_type": "code",
   "execution_count": 13,
   "metadata": {},
   "outputs": [],
   "source": [
    "X_train = pd.read_csv('X_test.csv').to_numpy()\n",
    "y_train = pd.read_csv('y_test.csv').to_numpy()\n",
    "y_train = np.ravel(y_train)"
   ]
  },
  {
   "attachments": {},
   "cell_type": "markdown",
   "metadata": {},
   "source": [
    "# Construccion del modelo"
   ]
  },
  {
   "attachments": {},
   "cell_type": "markdown",
   "metadata": {},
   "source": [
    "Definimos una funcion que reciba el argumento `hp` y la configuracion de hiperparametros como se muestra a continuacion donde la funcion `Int` indica que un hiperparámetro es un número entero como el numero de estimadores `n_estimators` y profundidad maxima `max_depth`."
   ]
  },
  {
   "cell_type": "code",
   "execution_count": 14,
   "metadata": {},
   "outputs": [],
   "source": [
    "def build_model(hp):\n",
    "    n_estimators = hp.Int(\"n_estimators\", 50, 200, 10)\n",
    "    max_depth = hp.Int(\"max_depth\", 5, 20, 1)\n",
    "    model = RandomForestClassifier(\n",
    "        n_estimators = n_estimators,\n",
    "        max_depth = max_depth\n",
    "    )\n",
    "    return model"
   ]
  },
  {
   "attachments": {},
   "cell_type": "markdown",
   "metadata": {},
   "source": [
    "# Evaluacion y seleccion del modelo"
   ]
  },
  {
   "attachments": {},
   "cell_type": "markdown",
   "metadata": {},
   "source": [
    "## Evaluacion del modelo (*k*-fold-cross-validation)"
   ]
  },
  {
   "attachments": {},
   "cell_type": "markdown",
   "metadata": {},
   "source": [
    "Definimos la funcion `StratifiedKFold` para generar la validacion cruzada y evaluar la capacidad de generalizacion del modelo."
   ]
  },
  {
   "cell_type": "code",
   "execution_count": 15,
   "metadata": {},
   "outputs": [],
   "source": [
    "cv = StratifiedKFold(n_splits = 10, random_state = None, shuffle = False)"
   ]
  },
  {
   "attachments": {},
   "cell_type": "markdown",
   "metadata": {},
   "source": [
    "## Seleccion del modelo (Bayesian Optimization)"
   ]
  },
  {
   "attachments": {},
   "cell_type": "markdown",
   "metadata": {},
   "source": [
    "Definimos la funcion `SklearnTuner` y el metodo seleccion de parametros `BayesianOptimizationOracle` que es recibida como un argumento de la funcion de ajuste de hiperparametros."
   ]
  },
  {
   "cell_type": "code",
   "execution_count": 16,
   "metadata": {},
   "outputs": [],
   "source": [
    "tuner = keras_tuner.tuners.SklearnTuner(\n",
    "    oracle = keras_tuner.oracles.BayesianOptimizationOracle(\n",
    "        objective = keras_tuner.Objective('score', 'max'),\n",
    "        max_trials = 10\n",
    "    ),\n",
    "    hypermodel = build_model,\n",
    "    scoring = metrics.make_scorer(metrics.accuracy_score),\n",
    "    cv = cv,\n",
    "    directory = 'SklearnTunerResults',\n",
    "    project_name='RF_training',\n",
    "    overwrite = True\n",
    "    )"
   ]
  },
  {
   "attachments": {},
   "cell_type": "markdown",
   "metadata": {},
   "source": [
    "Iniciamos la busqueda de hiperparametros con funcion `search`."
   ]
  },
  {
   "cell_type": "code",
   "execution_count": 17,
   "metadata": {},
   "outputs": [
    {
     "name": "stdout",
     "output_type": "stream",
     "text": [
      "Trial 10 Complete [00h 25m 25s]\n",
      "score: 0.8894301915237335\n",
      "\n",
      "Best score So Far: 0.8911607165423157\n",
      "Total elapsed time: 02h 38m 09s\n",
      "INFO:tensorflow:Oracle triggered exit\n"
     ]
    }
   ],
   "source": [
    "tuner.search(X_train, y_train)"
   ]
  },
  {
   "attachments": {},
   "cell_type": "markdown",
   "metadata": {},
   "source": [
    "Obtenemos el mejor modelo con la funcion `get_best_models`."
   ]
  },
  {
   "cell_type": "code",
   "execution_count": 18,
   "metadata": {},
   "outputs": [],
   "source": [
    "best_model = tuner.get_best_models(num_models = 1)[0]"
   ]
  },
  {
   "attachments": {},
   "cell_type": "markdown",
   "metadata": {},
   "source": [
    "# Guardar el modelo"
   ]
  },
  {
   "cell_type": "code",
   "execution_count": 19,
   "metadata": {},
   "outputs": [
    {
     "data": {
      "text/plain": [
       "['RF_model.joblib']"
      ]
     },
     "execution_count": 19,
     "metadata": {},
     "output_type": "execute_result"
    }
   ],
   "source": [
    "dump(best_model, 'RF_model.joblib')"
   ]
  }
 ],
 "metadata": {
  "kernelspec": {
   "display_name": "churn",
   "language": "python",
   "name": "python3"
  },
  "language_info": {
   "codemirror_mode": {
    "name": "ipython",
    "version": 3
   },
   "file_extension": ".py",
   "mimetype": "text/x-python",
   "name": "python",
   "nbconvert_exporter": "python",
   "pygments_lexer": "ipython3",
   "version": "3.9.13"
  },
  "orig_nbformat": 4
 },
 "nbformat": 4,
 "nbformat_minor": 2
}
